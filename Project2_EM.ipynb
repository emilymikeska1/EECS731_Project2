{
  "nbformat": 4,
  "nbformat_minor": 0,
  "metadata": {
    "colab": {
      "name": "Project2_EM.ipynb",
      "provenance": [],
      "mount_file_id": "1mHHPQU_HddJ1GB0SkPo6AT-MeCOJ2j4x",
      "authorship_tag": "ABX9TyP+KuFaynPAwrzy8O3w17sj",
      "include_colab_link": true
    },
    "kernelspec": {
      "name": "python3",
      "display_name": "Python 3"
    }
  },
  "cells": [
    {
      "cell_type": "markdown",
      "metadata": {
        "id": "view-in-github",
        "colab_type": "text"
      },
      "source": [
        "<a href=\"https://colab.research.google.com/github/emilymikeska1/EECS731_Project2/blob/master/Project2_EM.ipynb\" target=\"_parent\"><img src=\"https://colab.research.google.com/assets/colab-badge.svg\" alt=\"Open In Colab\"/></a>"
      ]
    },
    {
      "cell_type": "code",
      "metadata": {
        "id": "8ZmzEue90RRH",
        "colab_type": "code",
        "colab": {}
      },
      "source": [
        "import pandas as pd\n",
        "import numpy as np\n",
        "from sklearn.tree import DecisionTreeClassifier\n",
        "from sklearn.ensemble import RandomForestClassifier\n",
        "from sklearn.model_selection import train_test_split\n",
        "from sklearn import metrics\n",
        "from sklearn.feature_extraction.text import CountVectorizer\n",
        "from sklearn import preprocessing\n",
        "from sklearn.tree import export_graphviz\n",
        "import graphviz\n",
        "import matplotlib.pyplot as plt\n",
        "from dtreeviz.trees import *\n",
        "from sklearn.model_selection import cross_validate"
      ],
      "execution_count": 1,
      "outputs": []
    },
    {
      "cell_type": "code",
      "metadata": {
        "id": "RCb93KAT6yCJ",
        "colab_type": "code",
        "colab": {}
      },
      "source": [
        "df=pd.read_csv('/content/drive/My Drive/Colab Notebooks/project2/Shakespeare_data.csv')"
      ],
      "execution_count": 2,
      "outputs": []
    },
    {
      "cell_type": "markdown",
      "metadata": {
        "id": "dpj3oNOKPI5m",
        "colab_type": "text"
      },
      "source": [
        "Data preprocessing includes filling empty cells, removing excess punctuation, converting dtypes of some features, and using Label Encoding for some features."
      ]
    },
    {
      "cell_type": "code",
      "metadata": {
        "id": "0tnIiMAdWpGd",
        "colab_type": "code",
        "colab": {
          "base_uri": "https://localhost:8080/",
          "height": 34
        },
        "outputId": "f65383e6-2895-444f-c756-b4916e6c85f3"
      },
      "source": [
        "df=df.dropna().reset_index(drop=True)\n",
        "df['PlayerLine'].replace(',','', inplace=True)\n",
        "df['PlayerLine'].replace('.','', inplace=True)\n",
        "df['PlayerLine'].replace('!','', inplace=True)\n",
        "df['PlayerLine'].replace('?','', inplace=True)\n",
        "df['PlayerLine'].replace(':','', inplace=True)\n",
        "df['PlayerLine'].replace(';','', inplace=True)\n",
        "df['PlayerLine'].replace(\"'\",'', inplace=True)\n",
        "df.shape"
      ],
      "execution_count": 3,
      "outputs": [
        {
          "output_type": "execute_result",
          "data": {
            "text/plain": [
              "(105152, 6)"
            ]
          },
          "metadata": {
            "tags": []
          },
          "execution_count": 3
        }
      ]
    },
    {
      "cell_type": "code",
      "metadata": {
        "id": "xB3-nyBGgSU2",
        "colab_type": "code",
        "colab": {
          "base_uri": "https://localhost:8080/",
          "height": 134
        },
        "outputId": "fa31b658-68ec-42da-c047-f8ef975a9a1d"
      },
      "source": [
        "df.dtypes"
      ],
      "execution_count": 4,
      "outputs": [
        {
          "output_type": "execute_result",
          "data": {
            "text/plain": [
              "Dataline              int64\n",
              "Play                 object\n",
              "PlayerLinenumber    float64\n",
              "ActSceneLine         object\n",
              "Player               object\n",
              "PlayerLine           object\n",
              "dtype: object"
            ]
          },
          "metadata": {
            "tags": []
          },
          "execution_count": 4
        }
      ]
    },
    {
      "cell_type": "code",
      "metadata": {
        "id": "B661wGI87VkX",
        "colab_type": "code",
        "colab": {}
      },
      "source": [
        "le=preprocessing.LabelEncoder()\n",
        "df['Play']=le.fit_transform(df['Play'])\n",
        "df['Player']=df['Player'].astype('category')\n",
        "df['ActSceneLine']=df['ActSceneLine'].astype('str')\n",
        "df[['Act','Scene','Line']]=df['ActSceneLine'].str.split('.', expand=True).astype('int')\n",
        "df.drop(['ActSceneLine'], axis=1, inplace=True)"
      ],
      "execution_count": 5,
      "outputs": []
    },
    {
      "cell_type": "code",
      "metadata": {
        "id": "OcJ7KVa2IAMB",
        "colab_type": "code",
        "colab": {
          "base_uri": "https://localhost:8080/",
          "height": 67
        },
        "outputId": "f375ddd2-1c3f-4505-f1dc-08be443a4eb0"
      },
      "source": [
        "df.columns"
      ],
      "execution_count": 6,
      "outputs": [
        {
          "output_type": "execute_result",
          "data": {
            "text/plain": [
              "Index(['Dataline', 'Play', 'PlayerLinenumber', 'Player', 'PlayerLine', 'Act',\n",
              "       'Scene', 'Line'],\n",
              "      dtype='object')"
            ]
          },
          "metadata": {
            "tags": []
          },
          "execution_count": 6
        }
      ]
    },
    {
      "cell_type": "markdown",
      "metadata": {
        "id": "5FqO-Hn6T0z9",
        "colab_type": "text"
      },
      "source": [
        "I wanted to try to incorporate the Player Lines into the classification model. To do this I first vectorized the lines and then tried to add the vectors as a feature to the dataframe. This did not work well for several reasons. First, after some research I realized that I should have vectorized AND embedded the words. Second, the vectors did not translate well to a feature directly because I vectorized the corpus in one bulk piece (I should have split the lines by character, then vectorized them by character). "
      ]
    },
    {
      "cell_type": "code",
      "metadata": {
        "id": "amdopZcOV-G1",
        "colab_type": "code",
        "colab": {}
      },
      "source": [
        "#corpus=[]\n",
        "#for a in df['PlayerLine']:\n",
        "#  corpus.append(a)\n",
        "#vectorizer=CountVectorizer()\n",
        "#vects=vectorizer.fit_transform(corpus)\n",
        "#vects=vects.toarray()\n",
        "#print(vectorizer.get_feature_names())\n",
        "#print(vects[0:10])\n",
        "#df['Vectors']=vects\n",
        "#print(df[0:10])\n",
        "#print(vects[0:50])\n",
        "#print(vects.shape)\n",
        "#df['Vectors']=pd.Series([vects])\n",
        "#df['Vectors']=df['Vectors'].astype('str')\n",
        "#df['Vectors'].head\n",
        "#df[['A','B','C']]=df['Vectors'].str.split\n",
        "#df.drop(['PlayerLine'], axis=1, inplace=True)"
      ],
      "execution_count": 7,
      "outputs": []
    },
    {
      "cell_type": "markdown",
      "metadata": {
        "id": "L7DB3bF_VRpX",
        "colab_type": "text"
      },
      "source": [
        "After striking out with word vectorization, I decided to move on without the Player Lines as a feature."
      ]
    },
    {
      "cell_type": "code",
      "metadata": {
        "id": "pUPCumP6jv92",
        "colab_type": "code",
        "colab": {}
      },
      "source": [
        "df.drop(['Dataline'], axis=1, inplace=True)"
      ],
      "execution_count": 7,
      "outputs": []
    },
    {
      "cell_type": "code",
      "metadata": {
        "id": "bW-5BQujkIO_",
        "colab_type": "code",
        "colab": {}
      },
      "source": [
        "df.drop(['PlayerLine'], axis=1, inplace=True)"
      ],
      "execution_count": 8,
      "outputs": []
    },
    {
      "cell_type": "code",
      "metadata": {
        "id": "HNNcRirVHLTd",
        "colab_type": "code",
        "colab": {
          "base_uri": "https://localhost:8080/",
          "height": 134
        },
        "outputId": "c27cfc52-f94b-476d-a1c1-50da34c5a4ce"
      },
      "source": [
        "df.dtypes"
      ],
      "execution_count": 9,
      "outputs": [
        {
          "output_type": "execute_result",
          "data": {
            "text/plain": [
              "Play                   int64\n",
              "PlayerLinenumber     float64\n",
              "Player              category\n",
              "Act                    int64\n",
              "Scene                  int64\n",
              "Line                   int64\n",
              "dtype: object"
            ]
          },
          "metadata": {
            "tags": []
          },
          "execution_count": 9
        }
      ]
    },
    {
      "cell_type": "markdown",
      "metadata": {
        "id": "QApOdGPg9rHJ",
        "colab_type": "text"
      },
      "source": [
        "The complete dataset is too large for the RAM available to me, so I decided to randomize the rows in the dataframe and then use the first 10,000 rows of randomized data."
      ]
    },
    {
      "cell_type": "code",
      "metadata": {
        "id": "IU-d51s7wI_1",
        "colab_type": "code",
        "colab": {}
      },
      "source": [
        "df=df.sample(frac=1)"
      ],
      "execution_count": 10,
      "outputs": []
    },
    {
      "cell_type": "code",
      "metadata": {
        "id": "3lLKyTiLwm4Z",
        "colab_type": "code",
        "colab": {}
      },
      "source": [
        "sub_frame=df.head(10000)"
      ],
      "execution_count": 11,
      "outputs": []
    },
    {
      "cell_type": "markdown",
      "metadata": {
        "id": "M970bXyB4UdT",
        "colab_type": "text"
      },
      "source": [
        "Define x and y and split the data into a 80-20 train to test ratio."
      ]
    },
    {
      "cell_type": "code",
      "metadata": {
        "id": "PLVEUBtq8P4R",
        "colab_type": "code",
        "colab": {}
      },
      "source": [
        "X=sub_frame.drop('Player', axis=1)\n",
        "y=sub_frame['Player']\n",
        "X_train, X_test, y_train, y_test=train_test_split(X, y, test_size=0.2, random_state=42)"
      ],
      "execution_count": 12,
      "outputs": []
    },
    {
      "cell_type": "code",
      "metadata": {
        "id": "bxINii0I3UUh",
        "colab_type": "code",
        "colab": {
          "base_uri": "https://localhost:8080/",
          "height": 34
        },
        "outputId": "7c51cc42-503f-4706-dc62-8c6c296e2893"
      },
      "source": [
        "X.columns"
      ],
      "execution_count": 13,
      "outputs": [
        {
          "output_type": "execute_result",
          "data": {
            "text/plain": [
              "Index(['Play', 'PlayerLinenumber', 'Act', 'Scene', 'Line'], dtype='object')"
            ]
          },
          "metadata": {
            "tags": []
          },
          "execution_count": 13
        }
      ]
    },
    {
      "cell_type": "markdown",
      "metadata": {
        "id": "sFvWtK-c4e0e",
        "colab_type": "text"
      },
      "source": [
        "Build a Random Forest Classifier and Decision Tree Classifier models!"
      ]
    },
    {
      "cell_type": "code",
      "metadata": {
        "id": "KVqZy38AXP6j",
        "colab_type": "code",
        "colab": {
          "base_uri": "https://localhost:8080/",
          "height": 151
        },
        "outputId": "0984869a-2b56-44c3-f5a3-8ef0cac05177"
      },
      "source": [
        "model=RandomForestClassifier(n_estimators=100)\n",
        "model.fit(X_train, y_train)"
      ],
      "execution_count": 14,
      "outputs": [
        {
          "output_type": "execute_result",
          "data": {
            "text/plain": [
              "RandomForestClassifier(bootstrap=True, ccp_alpha=0.0, class_weight=None,\n",
              "                       criterion='gini', max_depth=None, max_features='auto',\n",
              "                       max_leaf_nodes=None, max_samples=None,\n",
              "                       min_impurity_decrease=0.0, min_impurity_split=None,\n",
              "                       min_samples_leaf=1, min_samples_split=2,\n",
              "                       min_weight_fraction_leaf=0.0, n_estimators=100,\n",
              "                       n_jobs=None, oob_score=False, random_state=None,\n",
              "                       verbose=0, warm_start=False)"
            ]
          },
          "metadata": {
            "tags": []
          },
          "execution_count": 14
        }
      ]
    },
    {
      "cell_type": "code",
      "metadata": {
        "id": "PnNJbw85CfRl",
        "colab_type": "code",
        "colab": {
          "base_uri": "https://localhost:8080/",
          "height": 118
        },
        "outputId": "5c48f0c1-3de6-4345-f307-53a2edf8974d"
      },
      "source": [
        "model1=DecisionTreeClassifier()\n",
        "model1.fit(X_train, y_train)"
      ],
      "execution_count": 34,
      "outputs": [
        {
          "output_type": "execute_result",
          "data": {
            "text/plain": [
              "DecisionTreeClassifier(ccp_alpha=0.0, class_weight=None, criterion='gini',\n",
              "                       max_depth=None, max_features=None, max_leaf_nodes=None,\n",
              "                       min_impurity_decrease=0.0, min_impurity_split=None,\n",
              "                       min_samples_leaf=1, min_samples_split=2,\n",
              "                       min_weight_fraction_leaf=0.0, presort='deprecated',\n",
              "                       random_state=None, splitter='best')"
            ]
          },
          "metadata": {
            "tags": []
          },
          "execution_count": 34
        }
      ]
    },
    {
      "cell_type": "markdown",
      "metadata": {
        "id": "S5mIOqH-4koF",
        "colab_type": "text"
      },
      "source": [
        "Model evaluation and 10-fold Cross Validation of dataset"
      ]
    },
    {
      "cell_type": "code",
      "metadata": {
        "id": "hFR6d1p5YVet",
        "colab_type": "code",
        "colab": {
          "base_uri": "https://localhost:8080/",
          "height": 154
        },
        "outputId": "712c0713-3713-46c5-ef96-3b82d8de5d11"
      },
      "source": [
        "y_pred=model.predict(X_test)\n",
        "cv=cross_validate(model, X, y, cv=10)\n",
        "print(y_pred)\n",
        "print('Accuracy:',metrics.accuracy_score(y_test, y_pred))\n",
        "print(cv['test_score'])\n",
        "print(cv['test_score'].mean())"
      ],
      "execution_count": 15,
      "outputs": [
        {
          "output_type": "stream",
          "text": [
            "/usr/local/lib/python3.6/dist-packages/sklearn/model_selection/_split.py:667: UserWarning: The least populated class in y has only 1 members, which is less than n_splits=10.\n",
            "  % (min_groups, self.n_splits)), UserWarning)\n"
          ],
          "name": "stderr"
        },
        {
          "output_type": "stream",
          "text": [
            "['DON PEDRO' 'ESCALUS' 'SIR TOBY BELCH' ... 'SEBASTIAN' 'BELARIUS'\n",
            " 'ULYSSES']\n",
            "Accuracy: 0.554\n",
            "[0.591 0.552 0.577 0.599 0.576 0.553 0.561 0.586 0.581 0.55 ]\n",
            "0.5726\n"
          ],
          "name": "stdout"
        }
      ]
    },
    {
      "cell_type": "code",
      "metadata": {
        "id": "UWRIINLGCn93",
        "colab_type": "code",
        "colab": {
          "base_uri": "https://localhost:8080/",
          "height": 138
        },
        "outputId": "d5f0e7c9-f72c-4e07-ce8f-ac3a1e3c4002"
      },
      "source": [
        "y_pred1=model1.predict(X_test)\n",
        "cv1=cross_validate(model1, X, y, cv=10)\n",
        "print(y_pred1)\n",
        "print('Accuracy:',metrics.accuracy_score(y_test, y_pred1))\n",
        "print(cv1['test_score'])\n",
        "print(cv1['test_score'].mean())"
      ],
      "execution_count": 35,
      "outputs": [
        {
          "output_type": "stream",
          "text": [
            "/usr/local/lib/python3.6/dist-packages/sklearn/model_selection/_split.py:667: UserWarning: The least populated class in y has only 1 members, which is less than n_splits=10.\n",
            "  % (min_groups, self.n_splits)), UserWarning)\n"
          ],
          "name": "stderr"
        },
        {
          "output_type": "stream",
          "text": [
            "['HELENA' 'HAMLET' 'Clown' ... 'First Clown' 'GRUMIO' 'MENENIUS']\n",
            "Accuracy: 0.5155\n",
            "[0.524 0.522 0.53  0.562 0.529 0.54  0.502 0.541 0.519 0.538]\n",
            "0.5307000000000001\n"
          ],
          "name": "stdout"
        }
      ]
    },
    {
      "cell_type": "markdown",
      "metadata": {
        "id": "50kebio_qDrj",
        "colab_type": "text"
      },
      "source": [
        "Attempted to view the tree from the Decision Tree Classifier, but was unsuccessful..."
      ]
    },
    {
      "cell_type": "code",
      "metadata": {
        "id": "sbOkb8Ld9bjt",
        "colab_type": "code",
        "colab": {}
      },
      "source": [
        "viz=dtreeviz(model1,\n",
        "             X_train,\n",
        "             y_train,\n",
        "             target_name='Player',\n",
        "             class_names=y,\n",
        "             feature_names=(sub_frame[['Play','PlayerLinenumber','Act','Scene','Line']]))\n",
        "viz.svg()"
      ],
      "execution_count": null,
      "outputs": []
    },
    {
      "cell_type": "code",
      "metadata": {
        "id": "DBGfTibLCCEa",
        "colab_type": "code",
        "colab": {}
      },
      "source": [
        "from IPython.core.display import display, HTML\n",
        "display(HTML(viz.svg()))"
      ],
      "execution_count": null,
      "outputs": []
    },
    {
      "cell_type": "markdown",
      "metadata": {
        "id": "2cG1fm1rqZv_",
        "colab_type": "text"
      },
      "source": [
        "Attempted to view a random tree from the Random Forest Classifier, but was unsucessful again (sadly)..."
      ]
    },
    {
      "cell_type": "code",
      "metadata": {
        "id": "AQ98vZlb1r3P",
        "colab_type": "code",
        "colab": {
          "base_uri": "https://localhost:8080/",
          "height": 34
        },
        "outputId": "b25cc9dd-bf5b-4b0c-b11b-1069217ce890"
      },
      "source": [
        "random_tree=model.estimators_[34]\n",
        "features=list(X.columns)\n",
        "data=export_graphviz(random_tree, feature_names=features, max_depth=5, filled=True, rounded=True)\n",
        "graph=graphviz.Source(data)\n",
        "graph.render"
      ],
      "execution_count": 16,
      "outputs": [
        {
          "output_type": "execute_result",
          "data": {
            "text/plain": [
              "<bound method File.render of <graphviz.files.Source object at 0x7f1e404b1518>>"
            ]
          },
          "metadata": {
            "tags": []
          },
          "execution_count": 16
        }
      ]
    }
  ]
}